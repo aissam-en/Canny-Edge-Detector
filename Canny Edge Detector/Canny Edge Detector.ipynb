{
  "cells": [
    {
      "cell_type": "markdown",
      "metadata": {
        "id": "dQDjaWqBjwlt"
      },
      "source": [
        "The steps of Canny edge detector:\n",
        "\n",
        "    1- Smooth image with Gaussian.\n",
        "    2- Calculate magnitude and orientation of gradient.\n",
        "    3- Non-max suppression.\n",
        "    4- Threshold.\n"
      ]
    },
    {
      "cell_type": "markdown",
      "metadata": {
        "id": "p25HWorbgMWG"
      },
      "source": [
        "Import libraries :"
      ]
    },
    {
      "cell_type": "code",
      "execution_count": 13,
      "metadata": {
        "id": "sas6ejW9gQpl"
      },
      "outputs": [],
      "source": [
        "import numpy as np\n",
        "import cv2\n",
        "import argparse\n",
        "import matplotlib.pyplot as plt\n",
        "import math"
      ]
    },
    {
      "cell_type": "markdown",
      "metadata": {
        "id": "4lsRKTASj4tM"
      },
      "source": [
        "#1-Smooth image with Gaussian"
      ]
    },
    {
      "cell_type": "markdown",
      "metadata": {
        "id": "ZahKx-SJgTWg"
      },
      "source": [
        "The density() function returns the density using the mean = 0 and sigma in the formula of Univariate Normal Distribution : "
      ]
    },
    {
      "cell_type": "code",
      "execution_count": 14,
      "metadata": {
        "id": "467eLx1OgZGI"
      },
      "outputs": [],
      "source": [
        "def density(x, mean, sigma):\n",
        "    return 1 / (np.sqrt(2 * np.pi) * sigma) * np.exp(-np.power((x - mean) / sigma, 2) / 2)"
      ]
    },
    {
      "cell_type": "markdown",
      "metadata": {
        "id": "dm1PCrX3gcF7"
      },
      "source": [
        "*The* gaussian_filter() function, which takes the size of the filter and sigma, and returns the filter_2D : "
      ]
    },
    {
      "cell_type": "code",
      "execution_count": 15,
      "metadata": {
        "id": "cvGfbvWxges0"
      },
      "outputs": [],
      "source": [
        "def gaussian_filter(size, sigma):\n",
        "    filter_1D = np.linspace(-(size // 2), size // 2, size)\n",
        "    for i in range(size):\n",
        "        filter_1D[i] = density(filter_1D[i], 0, sigma)\n",
        "\n",
        "    filter_2D = np.outer(filter_1D.T, filter_1D.T)\n",
        "    filter_2D *= 1.0 / filter_2D.max()\n",
        "\n",
        "    return filter_2D"
      ]
    },
    {
      "cell_type": "markdown",
      "metadata": {
        "id": "h1uD7Dt6ghaP"
      },
      "source": [
        "The convolution function :"
      ]
    },
    {
      "cell_type": "code",
      "execution_count": 16,
      "metadata": {
        "id": "ew8ltwbFgkey"
      },
      "outputs": [],
      "source": [
        "def convolution(image, filter):\n",
        "\n",
        "    print(\"The filter shape : {}\".format(filter.shape))\n",
        "    print(\"The origine image shape : {}\".format(image.shape))\n",
        "\n",
        "    #Show the origine image (BGR)\n",
        "    #plt.imshow(image)\n",
        "    #plt.title(\"Origine image (BGR)\")\n",
        "    #plt.show()\n",
        "\n",
        "    #if the image is not gray\n",
        "    if len(image.shape) == 3: \n",
        "        print(\"\\nThe image is not gray.\")\n",
        "        #Converte the image to Gray : \n",
        "        image = cv2.cvtColor(image, cv2.COLOR_BGR2GRAY)\n",
        "        print(\"Converte the image to gray.\\nGray image shape : {}\".format(image.shape))\n",
        "    else: #if the image is gray\n",
        "        print(\"The image is already gray.\\nGray image shape : {}\".format(image.shape))\n",
        "\n",
        "    #Show the gray image\n",
        "    #plt.imshow(image, cmap='gray')\n",
        "    #plt.title(\"Gray image\")\n",
        "    #plt.show()\n",
        "    #save the image : \n",
        "    cv2.imwrite(\"1_gray.jpg\", image)\n",
        "\n",
        " \n",
        "    image_row, image_col = image.shape\n",
        "    filter_row, filter_col = filter.shape\n",
        " \n",
        "    output = np.zeros(image.shape)\n",
        " \n",
        "    pad_height = int((filter_row - 1) / 2)\n",
        "    pad_width = int((filter_col - 1) / 2)\n",
        " \n",
        "    padded_image = np.zeros((image_row + (2 * pad_height), image_col + (2 * pad_width)))\n",
        " \n",
        "    padded_image[pad_height:padded_image.shape[0] - pad_height, pad_width:padded_image.shape[1] - pad_width] = image\n",
        " \n",
        "    #Show the padded image\n",
        "    #plt.imshow(padded_image, cmap='gray')\n",
        "    #plt.title(\"Padded image\")\n",
        "    #plt.show()\n",
        "    #save the image : \n",
        "    cv2.imwrite(\"2_padded.jpg\", padded_image)\n",
        " \n",
        "    for row in range(image_row):\n",
        "        for col in range(image_col):\n",
        "            #The convolution operation :\n",
        "            output[row, col] = np.sum(filter * padded_image[row:row + filter_row, col:col + filter_col])\n",
        "\n",
        "            #apply the blur effect :\n",
        "            output[row, col] /= filter.shape[0] * filter.shape[1]\n",
        " \n",
        "    print(\"The output image shape : {}\".format(output.shape))\n",
        " \n",
        "    #Show the output image\n",
        "    plt.imshow(output, cmap='gray')\n",
        "    plt.title(\"Output Image after the filter\")\n",
        "    plt.show()\n",
        "    #save the image : \n",
        "    cv2.imwrite(\"3_convol.jpg\", output)\n",
        "\n",
        " \n",
        "    return output"
      ]
    },
    {
      "cell_type": "markdown",
      "metadata": {
        "id": "NHhNkGLfgnZb"
      },
      "source": [
        "Smoothing with sigma σ = 5"
      ]
    },
    {
      "cell_type": "code",
      "execution_count": 17,
      "metadata": {
        "id": "ejuTvRYLgx3g"
      },
      "outputs": [],
      "source": [
        "def gaussian_blur(image, filter_size):\n",
        "    filter = gaussian_filter(filter_size, sigma=5)\n",
        "    return convolution(image, filter)"
      ]
    },
    {
      "cell_type": "code",
      "execution_count": null,
      "metadata": {
        "colab": {
          "base_uri": "https://localhost:8080/",
          "height": 425
        },
        "id": "k2GhmI30g3fe",
        "outputId": "d35b95cf-3379-4399-8a8e-d4ec9cbe8f95"
      },
      "outputs": [],
      "source": [
        "#Load image\n",
        "image = cv2.imread('test.jpg')\n",
        "blur_img = gaussian_blur(image, 5)\n",
        "#save the image : \n",
        "cv2.imwrite(\"4_blur.jpg\", blur_img)"
      ]
    },
    {
      "cell_type": "markdown",
      "metadata": {
        "id": "BEM-BNEbj-y_"
      },
      "source": [
        "#2-Calculate magnitude and orientation of gradient"
      ]
    },
    {
      "cell_type": "markdown",
      "metadata": {
        "id": "GORXqrzhg-RL"
      },
      "source": [
        "To calculating the magnitude and the direction of the gradient : "
      ]
    },
    {
      "cell_type": "code",
      "execution_count": 19,
      "metadata": {
        "id": "m30iYtwqg6Qx"
      },
      "outputs": [],
      "source": [
        "def sobel_edge_detection(image, filter, convert_to_degree=False):\n",
        "    image_horizontal = convolution(image, filter)\n",
        "\n",
        "    #Show image (horizontal mask)\n",
        "    #plt.imshow(image_horizontal, cmap='gray')\n",
        "    #plt.title(\"Image using horizontal Edge\")\n",
        "    #plt.show()\n",
        "    #save the image : \n",
        "    cv2.imwrite(\"5_horizontal.jpg\", image_horizontal)\n",
        "    \n",
        "\n",
        "    image_vertical = convolution(image, np.flip(filter.T, axis=0))\n",
        "\n",
        "    #Show image (vertical mask)\n",
        "    #plt.imshow(image_vertical, cmap='gray')\n",
        "    #plt.title(\"Image using vertical Edge\")\n",
        "    #plt.show()\n",
        "    #save the image : \n",
        "    cv2.imwrite(\"6_vertical.jpg\", image_vertical)\n",
        "\n",
        "    #combine the vertical and horizontal \n",
        "    gradient_magnitude = np.sqrt(np.square(image_horizontal) + np.square(image_vertical))\n",
        "    #normalize to be between 0 and 255.\n",
        "    gradient_magnitude *= 255.0 / gradient_magnitude.max()\n",
        "\n",
        "    #Show image (vertical and horizontal mask)\n",
        "    #plt.imshow(gradient_magnitude, cmap='gray')\n",
        "    #plt.title(\"Gradient Magnitude\")\n",
        "    #plt.show()\n",
        "    #save the image : \n",
        "    cv2.imwrite(\"7_magnitude.jpg\", gradient_magnitude)\n",
        "\n",
        "\n",
        "    #calculate the gradient direction :\n",
        "    gradient_direction = np.arctan2(image_vertical, image_horizontal)\n",
        "\n",
        "    #convert gradient direction to degree\n",
        "    gradient_direction = np.rad2deg(gradient_direction)\n",
        "    #make the degree be between 0 to 360\n",
        "    gradient_direction += 180\n",
        "\n",
        "    return gradient_magnitude, gradient_direction"
      ]
    },
    {
      "cell_type": "code",
      "execution_count": null,
      "metadata": {
        "colab": {
          "base_uri": "https://localhost:8080/",
          "height": 1000
        },
        "id": "Pv69mkothrlg",
        "outputId": "8f3cda13-7c2e-4550-8e5b-d6381a408178"
      },
      "outputs": [],
      "source": [
        "#load the image\n",
        "image = cv2.imread('test.jpg')\n",
        "\n",
        "blur_image = gaussian_blur(image, filter_size=9)\n",
        "edge_filter = np.array([[-1, 0, 1], [-2, 0, 2], [-1, 0, 1]])\n",
        "gradient_magnitude, gradient_direction = sobel_edge_detection(blur_image, edge_filter, convert_to_degree=True)\n"
      ]
    },
    {
      "cell_type": "markdown",
      "metadata": {
        "id": "qjwP_sYikD7G"
      },
      "source": [
        "#3- Non-max suppression"
      ]
    },
    {
      "cell_type": "code",
      "execution_count": 21,
      "metadata": {
        "id": "X_UMH0_Shvh8"
      },
      "outputs": [],
      "source": [
        "def non_max_suppression(gradient_magnitude, gradient_direction):\n",
        "\n",
        "    image_row, image_col = gradient_magnitude.shape\n",
        " \n",
        "    output = np.zeros(gradient_magnitude.shape)\n",
        "    pi = 180\n",
        " \n",
        "    #loop through all pixels in gradient directions\n",
        "    for row in range(1, image_row - 1):\n",
        "        for col in range(1, image_col - 1):\n",
        "            direction = gradient_direction[row, col]\n",
        " \n",
        "            if (0 <= direction < pi / 8) or (15 * pi / 8 <= direction <= 2 * pi):\n",
        "                before_pixel = gradient_magnitude[row, col - 1]\n",
        "                after_pixel = gradient_magnitude[row, col + 1]\n",
        " \n",
        "            elif (pi / 8 <= direction < 3 * pi / 8) or (9 * pi / 8 <= direction < 11 * pi / 8):\n",
        "                before_pixel = gradient_magnitude[row + 1, col - 1]\n",
        "                after_pixel = gradient_magnitude[row - 1, col + 1]\n",
        " \n",
        "            elif (3 * pi / 8 <= direction < 5 * pi / 8) or (11 * pi / 8 <= direction < 13 * pi / 8):\n",
        "                before_pixel = gradient_magnitude[row - 1, col]\n",
        "                after_pixel = gradient_magnitude[row + 1, col]\n",
        " \n",
        "            else:\n",
        "                before_pixel = gradient_magnitude[row - 1, col - 1]\n",
        "                after_pixel = gradient_magnitude[row + 1, col + 1]\n",
        " \n",
        "            if gradient_magnitude[row, col] >= before_pixel and gradient_magnitude[row, col] >= after_pixel:\n",
        "                output[row, col] = gradient_magnitude[row, col]\n",
        " \n",
        "    #Show image\n",
        "    #plt.imshow(output, cmap='gray')\n",
        "    #plt.title(\"Non Max Suppression Image\")\n",
        "    #plt.show()\n",
        "    #save the image : \n",
        "    cv2.imwrite(\"8_Non_Max.jpg\", output)\n",
        " \n",
        "    return output"
      ]
    },
    {
      "cell_type": "markdown",
      "metadata": {
        "id": "q5z3n8KnkHvW"
      },
      "source": [
        "#4- threshold"
      ]
    },
    {
      "cell_type": "code",
      "execution_count": 22,
      "metadata": {
        "id": "ebQBuZkHiQEy"
      },
      "outputs": [],
      "source": [
        "def threshold(image, low, high, weak):\n",
        "    output = np.zeros(image.shape)\n",
        "     \n",
        "    #set the value of a pixel to 255, if its value is higher than the high value\n",
        "    higher_row, higher_col = np.where(image >= high)\n",
        "    output[higher_row, higher_col] = 255\n",
        "\n",
        "    #set the value of a pixel to to \"week\" value, if its value is between low and high value\n",
        "    weak_row, weak_col = np.where((image <= high) & (image >= low))\n",
        "    output[weak_row, weak_col] = weak\n",
        " \n",
        "    #Show image after threshold\n",
        "    plt.imshow(output, cmap='gray')\n",
        "    plt.title(\"threshold image\")\n",
        "    plt.show()\n",
        "    #save the image : \n",
        "    cv2.imwrite(\"9_threshold.jpg\", output)\n",
        " \n",
        "    return output"
      ]
    },
    {
      "cell_type": "markdown",
      "metadata": {
        "id": "cyWxQXXYkMeI"
      },
      "source": [
        "#Final Result"
      ]
    },
    {
      "cell_type": "code",
      "execution_count": 23,
      "metadata": {
        "colab": {
          "base_uri": "https://localhost:8080/",
          "height": 281
        },
        "id": "H4kCcUrviVbT",
        "outputId": "b5bdec27-4dfa-4915-93b5-326a46a44525"
      },
      "outputs": [
        {
          "data": {
            "image/png": "[encoded data removed]",
            "text/plain": [
              "<Figure size 432x288 with 1 Axes>"
            ]
          },
          "metadata": {
            "needs_background": "light"
          },
          "output_type": "display_data"
        }
      ],
      "source": [
        "non_max_image = non_max_suppression(gradient_magnitude, gradient_direction)\n",
        "threshold_image = threshold(non_max_image, 5, 20, 50)"
      ]
    }
  ],
  "metadata": {
    "colab": {
      "provenance": []
    },
    "kernelspec": {
      "display_name": "Python 3",
      "name": "python3"
    },
    "language_info": {
      "name": "python"
    }
  },
  "nbformat": 4,
  "nbformat_minor": 0
}
